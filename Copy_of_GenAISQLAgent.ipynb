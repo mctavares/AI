{
  "nbformat": 4,
  "nbformat_minor": 0,
  "metadata": {
    "colab": {
      "provenance": [],
      "authorship_tag": "ABX9TyPtcthksLSwgtlh8fw0NVnR",
      "include_colab_link": true
    },
    "kernelspec": {
      "name": "python3",
      "display_name": "Python 3"
    },
    "language_info": {
      "name": "python"
    }
  },
  "cells": [
    {
      "cell_type": "markdown",
      "metadata": {
        "id": "view-in-github",
        "colab_type": "text"
      },
      "source": [
        "<a href=\"https://colab.research.google.com/github/mctavares/AI/blob/GenAISQLAgent/Copy_of_GenAISQLAgent.ipynb\" target=\"_parent\"><img src=\"https://colab.research.google.com/assets/colab-badge.svg\" alt=\"Open In Colab\"/></a>"
      ]
    },
    {
      "cell_type": "markdown",
      "source": [],
      "metadata": {
        "id": "8r6dXMD41UgQ"
      }
    },
    {
      "cell_type": "markdown",
      "source": [
        "# Simple Gen AI SQL Agent\n",
        "Ih this notebook we create a simple SQL Agent using Hugging Face and LangChain.\n",
        "\n",
        "\n",
        "# References\n",
        "## Data source:\n",
        "https://www.kaggle.com/code/dimarudov/data-analysis-using-sql\n",
        "\n",
        "## SQLAlchemy:\n",
        "https://www.datacamp.com/tutorial/sqlalchemy-tutorial-examples\n",
        "https://www.slingacademy.com/article/sqlalchemy-how-to-bulk-insert-data-into-a-table/\n",
        "https://docs.sqlalchemy.org/en/20/orm/join_conditions.html\n",
        "https://www.sqlitetutorial.net/sqlite-go/create-table/\n",
        "\n",
        "## Hugging Face\n",
        "https://huggingface.co/learn/cookbook/en/agent_text_to_sql"
      ],
      "metadata": {
        "id": "f5RKKRzB1YTJ"
      }
    },
    {
      "cell_type": "code",
      "source": [
        "# Check to see if dependencies are already installed\n",
        "import transformers\n",
        "import torch\n",
        "import sqlalchemy\n",
        "import transformers.agents\n",
        "\n",
        "print('Hugging Face Transformers version:' + transformers.__version__)\n",
        "print('PyTorch version:' + transformers.__version__)\n",
        "print('sqlalchemy version:' + sqlalchemy.__version__)"
      ],
      "metadata": {
        "colab": {
          "base_uri": "https://localhost:8080/"
        },
        "id": "58FRrTPAoKtn",
        "outputId": "bed63db5-3819-4293-e5c6-0edacaa6a13f"
      },
      "execution_count": null,
      "outputs": [
        {
          "output_type": "stream",
          "name": "stdout",
          "text": [
            "Hugging Face Transformers version:4.44.2\n",
            "PyTorch version:4.44.2\n",
            "sqlalchemy version:2.0.36\n"
          ]
        }
      ]
    },
    {
      "cell_type": "code",
      "source": [
        "# Add here list of depedencies thta need to be installed\n",
        "# !pip install sqlalchemy\n",
        "!pip install fsspec\n",
        "'''\n",
        "!pip install transformers[agents]\n",
        "!pip install transformers[tools]\n",
        "'''\n",
        "!pip install --upgrade transformers\n",
        "!pip install transformers[agents]\n",
        "!pip install --upgrade sqlalchemy"
      ],
      "metadata": {
        "colab": {
          "base_uri": "https://localhost:8080/"
        },
        "id": "dP9GxnFYpfRh",
        "outputId": "a0d9b5d9-54b8-4e4e-c96e-1dc9feebd2b3"
      },
      "execution_count": 10,
      "outputs": [
        {
          "output_type": "stream",
          "name": "stdout",
          "text": [
            "Requirement already satisfied: fsspec in /usr/local/lib/python3.10/dist-packages (2024.9.0)\n",
            "Requirement already satisfied: transformers in /usr/local/lib/python3.10/dist-packages (4.46.2)\n",
            "Requirement already satisfied: filelock in /usr/local/lib/python3.10/dist-packages (from transformers) (3.16.1)\n",
            "Requirement already satisfied: huggingface-hub<1.0,>=0.23.2 in /usr/local/lib/python3.10/dist-packages (from transformers) (0.24.7)\n",
            "Requirement already satisfied: numpy>=1.17 in /usr/local/lib/python3.10/dist-packages (from transformers) (1.26.4)\n",
            "Requirement already satisfied: packaging>=20.0 in /usr/local/lib/python3.10/dist-packages (from transformers) (24.1)\n",
            "Requirement already satisfied: pyyaml>=5.1 in /usr/local/lib/python3.10/dist-packages (from transformers) (6.0.2)\n",
            "Requirement already satisfied: regex!=2019.12.17 in /usr/local/lib/python3.10/dist-packages (from transformers) (2024.9.11)\n",
            "Requirement already satisfied: requests in /usr/local/lib/python3.10/dist-packages (from transformers) (2.32.3)\n",
            "Requirement already satisfied: safetensors>=0.4.1 in /usr/local/lib/python3.10/dist-packages (from transformers) (0.4.5)\n",
            "Requirement already satisfied: tokenizers<0.21,>=0.20 in /usr/local/lib/python3.10/dist-packages (from transformers) (0.20.3)\n",
            "Requirement already satisfied: tqdm>=4.27 in /usr/local/lib/python3.10/dist-packages (from transformers) (4.66.6)\n",
            "Requirement already satisfied: fsspec>=2023.5.0 in /usr/local/lib/python3.10/dist-packages (from huggingface-hub<1.0,>=0.23.2->transformers) (2024.9.0)\n",
            "Requirement already satisfied: typing-extensions>=3.7.4.3 in /usr/local/lib/python3.10/dist-packages (from huggingface-hub<1.0,>=0.23.2->transformers) (4.12.2)\n",
            "Requirement already satisfied: charset-normalizer<4,>=2 in /usr/local/lib/python3.10/dist-packages (from requests->transformers) (3.4.0)\n",
            "Requirement already satisfied: idna<4,>=2.5 in /usr/local/lib/python3.10/dist-packages (from requests->transformers) (3.10)\n",
            "Requirement already satisfied: urllib3<3,>=1.21.1 in /usr/local/lib/python3.10/dist-packages (from requests->transformers) (2.2.3)\n",
            "Requirement already satisfied: certifi>=2017.4.17 in /usr/local/lib/python3.10/dist-packages (from requests->transformers) (2024.8.30)\n",
            "Requirement already satisfied: transformers[agents] in /usr/local/lib/python3.10/dist-packages (4.46.2)\n",
            "Requirement already satisfied: filelock in /usr/local/lib/python3.10/dist-packages (from transformers[agents]) (3.16.1)\n",
            "Requirement already satisfied: huggingface-hub<1.0,>=0.23.2 in /usr/local/lib/python3.10/dist-packages (from transformers[agents]) (0.24.7)\n",
            "Requirement already satisfied: numpy>=1.17 in /usr/local/lib/python3.10/dist-packages (from transformers[agents]) (1.26.4)\n",
            "Requirement already satisfied: packaging>=20.0 in /usr/local/lib/python3.10/dist-packages (from transformers[agents]) (24.1)\n",
            "Requirement already satisfied: pyyaml>=5.1 in /usr/local/lib/python3.10/dist-packages (from transformers[agents]) (6.0.2)\n",
            "Requirement already satisfied: regex!=2019.12.17 in /usr/local/lib/python3.10/dist-packages (from transformers[agents]) (2024.9.11)\n",
            "Requirement already satisfied: requests in /usr/local/lib/python3.10/dist-packages (from transformers[agents]) (2.32.3)\n",
            "Requirement already satisfied: safetensors>=0.4.1 in /usr/local/lib/python3.10/dist-packages (from transformers[agents]) (0.4.5)\n",
            "Requirement already satisfied: tokenizers<0.21,>=0.20 in /usr/local/lib/python3.10/dist-packages (from transformers[agents]) (0.20.3)\n",
            "Requirement already satisfied: tqdm>=4.27 in /usr/local/lib/python3.10/dist-packages (from transformers[agents]) (4.66.6)\n",
            "Requirement already satisfied: Pillow<=15.0,>=10.0.1 in /usr/local/lib/python3.10/dist-packages (from transformers[agents]) (10.4.0)\n",
            "Requirement already satisfied: accelerate>=0.26.0 in /usr/local/lib/python3.10/dist-packages (from transformers[agents]) (0.34.2)\n",
            "Requirement already satisfied: datasets!=2.5.0 in /usr/local/lib/python3.10/dist-packages (from transformers[agents]) (3.1.0)\n",
            "Requirement already satisfied: diffusers in /usr/local/lib/python3.10/dist-packages (from transformers[agents]) (0.30.3)\n",
            "Requirement already satisfied: opencv-python in /usr/local/lib/python3.10/dist-packages (from transformers[agents]) (4.10.0.84)\n",
            "Requirement already satisfied: sentencepiece!=0.1.92,>=0.1.91 in /usr/local/lib/python3.10/dist-packages (from transformers[agents]) (0.2.0)\n",
            "Requirement already satisfied: torch in /usr/local/lib/python3.10/dist-packages (from transformers[agents]) (2.5.0+cu121)\n",
            "Requirement already satisfied: psutil in /usr/local/lib/python3.10/dist-packages (from accelerate>=0.26.0->transformers[agents]) (5.9.5)\n",
            "Requirement already satisfied: pyarrow>=15.0.0 in /usr/local/lib/python3.10/dist-packages (from datasets!=2.5.0->transformers[agents]) (17.0.0)\n",
            "Requirement already satisfied: dill<0.3.9,>=0.3.0 in /usr/local/lib/python3.10/dist-packages (from datasets!=2.5.0->transformers[agents]) (0.3.8)\n",
            "Requirement already satisfied: pandas in /usr/local/lib/python3.10/dist-packages (from datasets!=2.5.0->transformers[agents]) (2.2.2)\n",
            "Requirement already satisfied: xxhash in /usr/local/lib/python3.10/dist-packages (from datasets!=2.5.0->transformers[agents]) (3.5.0)\n",
            "Requirement already satisfied: multiprocess<0.70.17 in /usr/local/lib/python3.10/dist-packages (from datasets!=2.5.0->transformers[agents]) (0.70.16)\n",
            "Requirement already satisfied: fsspec<=2024.9.0,>=2023.1.0 in /usr/local/lib/python3.10/dist-packages (from fsspec[http]<=2024.9.0,>=2023.1.0->datasets!=2.5.0->transformers[agents]) (2024.9.0)\n",
            "Requirement already satisfied: aiohttp in /usr/local/lib/python3.10/dist-packages (from datasets!=2.5.0->transformers[agents]) (3.10.10)\n",
            "Requirement already satisfied: typing-extensions>=3.7.4.3 in /usr/local/lib/python3.10/dist-packages (from huggingface-hub<1.0,>=0.23.2->transformers[agents]) (4.12.2)\n",
            "Requirement already satisfied: charset-normalizer<4,>=2 in /usr/local/lib/python3.10/dist-packages (from requests->transformers[agents]) (3.4.0)\n",
            "Requirement already satisfied: idna<4,>=2.5 in /usr/local/lib/python3.10/dist-packages (from requests->transformers[agents]) (3.10)\n",
            "Requirement already satisfied: urllib3<3,>=1.21.1 in /usr/local/lib/python3.10/dist-packages (from requests->transformers[agents]) (2.2.3)\n",
            "Requirement already satisfied: certifi>=2017.4.17 in /usr/local/lib/python3.10/dist-packages (from requests->transformers[agents]) (2024.8.30)\n",
            "Requirement already satisfied: networkx in /usr/local/lib/python3.10/dist-packages (from torch->transformers[agents]) (3.4.2)\n",
            "Requirement already satisfied: jinja2 in /usr/local/lib/python3.10/dist-packages (from torch->transformers[agents]) (3.1.4)\n",
            "Requirement already satisfied: sympy==1.13.1 in /usr/local/lib/python3.10/dist-packages (from torch->transformers[agents]) (1.13.1)\n",
            "Requirement already satisfied: mpmath<1.4,>=1.1.0 in /usr/local/lib/python3.10/dist-packages (from sympy==1.13.1->torch->transformers[agents]) (1.3.0)\n",
            "Requirement already satisfied: importlib-metadata in /usr/local/lib/python3.10/dist-packages (from diffusers->transformers[agents]) (8.5.0)\n",
            "Requirement already satisfied: aiohappyeyeballs>=2.3.0 in /usr/local/lib/python3.10/dist-packages (from aiohttp->datasets!=2.5.0->transformers[agents]) (2.4.3)\n",
            "Requirement already satisfied: aiosignal>=1.1.2 in /usr/local/lib/python3.10/dist-packages (from aiohttp->datasets!=2.5.0->transformers[agents]) (1.3.1)\n",
            "Requirement already satisfied: attrs>=17.3.0 in /usr/local/lib/python3.10/dist-packages (from aiohttp->datasets!=2.5.0->transformers[agents]) (24.2.0)\n",
            "Requirement already satisfied: frozenlist>=1.1.1 in /usr/local/lib/python3.10/dist-packages (from aiohttp->datasets!=2.5.0->transformers[agents]) (1.5.0)\n",
            "Requirement already satisfied: multidict<7.0,>=4.5 in /usr/local/lib/python3.10/dist-packages (from aiohttp->datasets!=2.5.0->transformers[agents]) (6.1.0)\n",
            "Requirement already satisfied: yarl<2.0,>=1.12.0 in /usr/local/lib/python3.10/dist-packages (from aiohttp->datasets!=2.5.0->transformers[agents]) (1.17.0)\n",
            "Requirement already satisfied: async-timeout<5.0,>=4.0 in /usr/local/lib/python3.10/dist-packages (from aiohttp->datasets!=2.5.0->transformers[agents]) (4.0.3)\n",
            "Requirement already satisfied: zipp>=3.20 in /usr/local/lib/python3.10/dist-packages (from importlib-metadata->diffusers->transformers[agents]) (3.20.2)\n",
            "Requirement already satisfied: MarkupSafe>=2.0 in /usr/local/lib/python3.10/dist-packages (from jinja2->torch->transformers[agents]) (3.0.2)\n",
            "Requirement already satisfied: python-dateutil>=2.8.2 in /usr/local/lib/python3.10/dist-packages (from pandas->datasets!=2.5.0->transformers[agents]) (2.8.2)\n",
            "Requirement already satisfied: pytz>=2020.1 in /usr/local/lib/python3.10/dist-packages (from pandas->datasets!=2.5.0->transformers[agents]) (2024.2)\n",
            "Requirement already satisfied: tzdata>=2022.7 in /usr/local/lib/python3.10/dist-packages (from pandas->datasets!=2.5.0->transformers[agents]) (2024.2)\n",
            "Requirement already satisfied: six>=1.5 in /usr/local/lib/python3.10/dist-packages (from python-dateutil>=2.8.2->pandas->datasets!=2.5.0->transformers[agents]) (1.16.0)\n",
            "Requirement already satisfied: propcache>=0.2.0 in /usr/local/lib/python3.10/dist-packages (from yarl<2.0,>=1.12.0->aiohttp->datasets!=2.5.0->transformers[agents]) (0.2.0)\n",
            "Requirement already satisfied: sqlalchemy in /usr/local/lib/python3.10/dist-packages (2.0.36)\n",
            "Requirement already satisfied: typing-extensions>=4.6.0 in /usr/local/lib/python3.10/dist-packages (from sqlalchemy) (4.12.2)\n",
            "Requirement already satisfied: greenlet!=0.4.17 in /usr/local/lib/python3.10/dist-packages (from sqlalchemy) (3.1.1)\n"
          ]
        }
      ]
    },
    {
      "cell_type": "code",
      "source": [
        "# Let's create a simple database\n",
        "import sqlalchemy as db\n",
        "\n",
        "# Based on https://www.kaggle.com/code/alaasedeeq/european-soccer-database-with-sqlite3\n",
        "# engine = db.create_engine(\"sqlite:///european_database.sqlite\")\n",
        "\n",
        "metadata = db.MetaData()\n",
        "\n",
        "# Country table\n",
        "country = db.Table('country', metadata,\n",
        "              db.Column('Id', db.Integer(),primary_key=True),\n",
        "              db.Column('Name', db.String(255), nullable=False)\n",
        "              )\n",
        "# League table\n",
        "league = db.Table('league', metadata,\n",
        "              db.Column('Id', db.Integer(),primary_key=True),\n",
        "              db.Column('Country_Id', db.Integer(),db.ForeignKey('country.Id')),\n",
        "              db.Column('Name', db.String(255), nullable=False)\n",
        "              )\n",
        "engine = db.create_engine('sqlite:///:memory:') #, echo=True) # Comment out for verbose creation\n",
        "metadata.create_all(engine)\n",
        "conn = engine.connect()\n",
        "\"\"\"\n",
        "inspector = db.inspect(engine)\n",
        "\n",
        "for table_name in inspector.get_table_names():\n",
        "  print(\"Table: %s\" % table_name)\n",
        "  for column in inspector.get_columns(table_name):\n",
        "    print(\"Column: %s\" % column['name'])\n",
        "\n",
        "print('Done.')\n",
        "###\n",
        "# interact with database\n",
        "#print(\"Database opened.\")\n",
        "#conn = engine.connect()\n",
        "#metadata = db.MetaData()\n",
        "#matches= db.Table('Match', metadata, autoload_with=engine) #Table object\n",
        "\n",
        "#print(repr(metadata.tables['Match']))\n",
        "#print (repr(metadata))\n",
        "\"\"\""
      ],
      "metadata": {
        "colab": {
          "base_uri": "https://localhost:8080/",
          "height": 70
        },
        "id": "Ei36bdWomX1O",
        "outputId": "43e66de1-43e7-4386-81fd-88a42f113ad1"
      },
      "execution_count": 44,
      "outputs": [
        {
          "output_type": "execute_result",
          "data": {
            "text/plain": [
              "'\\ninspector = db.inspect(engine)\\n\\nfor table_name in inspector.get_table_names():\\n  print(\"Table: %s\" % table_name)\\n  for column in inspector.get_columns(table_name):\\n    print(\"Column: %s\" % column[\\'name\\'])\\n\\nprint(\\'Done.\\')\\n###\\n# interact with database\\n#print(\"Database opened.\")\\n#conn = engine.connect()\\n#metadata = db.MetaData()\\n#matches= db.Table(\\'Match\\', metadata, autoload_with=engine) #Table object\\n\\n#print(repr(metadata.tables[\\'Match\\']))\\n#print (repr(metadata))\\n'"
            ],
            "application/vnd.google.colaboratory.intrinsic+json": {
              "type": "string"
            }
          },
          "metadata": {},
          "execution_count": 44
        }
      ]
    },
    {
      "cell_type": "code",
      "source": [
        "insert_stmt = country.insert().values([\n",
        "{'Id':1, 'Name':'Belgium'},\n",
        "{'Id':1729, 'Name':'England'},\n",
        "{'Id':4769, 'Name':'France'},\n",
        "{'Id':7809, 'Name':'Germany'},\n",
        "{'Id':10257, 'Name':'Italy'},\n",
        "{'Id':13274, 'Name':'Netherlands'},\n",
        "{'Id':15722, 'Name':'Poland'},\n",
        "{'Id':17642, 'Name':'Portugal'},\n",
        "{'Id':19694, 'Name':'Scotland'},\n",
        "{'Id':21518, 'Name':'Spain'},\n",
        "{'Id':24558, 'Name':'Switzerland'}\n",
        "])\n",
        "\n",
        "#conn = engine.connect()\n",
        "conn.execute(insert_stmt)\n",
        "output = conn.execute(country.select()).fetchall()\n",
        "print(output)\n",
        "#conn.close()\n",
        "\n",
        "print ('Done')"
      ],
      "metadata": {
        "colab": {
          "base_uri": "https://localhost:8080/"
        },
        "id": "5g1wPIfGCEp9",
        "outputId": "c635c7c4-f317-4e25-d002-ba5295d06b45"
      },
      "execution_count": 45,
      "outputs": [
        {
          "output_type": "stream",
          "name": "stdout",
          "text": [
            "[(1, 'Belgium'), (1729, 'England'), (4769, 'France'), (7809, 'Germany'), (10257, 'Italy'), (13274, 'Netherlands'), (15722, 'Poland'), (17642, 'Portugal'), (19694, 'Scotland'), (21518, 'Spain'), (24558, 'Switzerland')]\n",
            "Done\n"
          ]
        }
      ]
    },
    {
      "cell_type": "code",
      "source": [
        "insert_stmt = league.insert().values([\n",
        "{'Id':1,'Country_Id':1,'Name':'Belgium Jupiler League'},\n",
        "{'Id':1729,'Country_Id':1729,'Name':'England Premier League'},\n",
        "{'Id':4769,'Country_Id':4769,'Name':'France Ligue 1'},\n",
        "{'Id':7809,'Country_Id':7809,'Name':'Germany 1. Bundesliga'},\n",
        "{'Id':10257,'Country_Id':10257,'Name':'Italy Serie A'},\n",
        "{'Id':13274,'Country_Id':13274,'Name':'Netherlands Eredivisie'},\n",
        "{'Id':15722,'Country_Id':15722,'Name':'Poland Ekstraklasa'},\n",
        "{'Id':17642,'Country_Id':17642,'Name':'Portugal Liga ZON Sagres'},\n",
        "{'Id':19694,'Country_Id':19694,'Name':'Scotland Premier League'},\n",
        "{'Id':21518,'Country_Id':21518,'Name':'Spain LIGA BBVA\t21518'},\n",
        "{'Id':24558,'Country_Id':24558,'Name':'Switzerland Super League'}\n",
        "])\n",
        "#conn = engine.connect()\n",
        "conn.execute(insert_stmt)\n",
        "output = conn.execute(league.select()).fetchall()\n",
        "#conn.close()\n",
        "print(output)"
      ],
      "metadata": {
        "colab": {
          "base_uri": "https://localhost:8080/"
        },
        "id": "jLokvs7lC1SA",
        "outputId": "2dbd4a85-a569-4fa9-da3e-5cc73b05445e"
      },
      "execution_count": 46,
      "outputs": [
        {
          "output_type": "stream",
          "name": "stdout",
          "text": [
            "[(1, 1, 'Belgium Jupiler League'), (1729, 1729, 'England Premier League'), (4769, 4769, 'France Ligue 1'), (7809, 7809, 'Germany 1. Bundesliga'), (10257, 10257, 'Italy Serie A'), (13274, 13274, 'Netherlands Eredivisie'), (15722, 15722, 'Poland Ekstraklasa'), (17642, 17642, 'Portugal Liga ZON Sagres'), (19694, 19694, 'Scotland Premier League'), (21518, 21518, 'Spain LIGA BBVA\\t21518'), (24558, 24558, 'Switzerland Super League')]\n"
          ]
        }
      ]
    },
    {
      "cell_type": "code",
      "source": [
        "# Hugging Face code\n",
        "from transformers import ReactCodeAgent, HfApiEngine, Tool, tool\n",
        "\n",
        "'''\n",
        "class QueryTool(Tool):\n",
        "  def __init__(self):\n",
        "    super().__init__(name=\"query_tool\", description=\"A tool that generates a brief summary of input text.\")\n",
        "\n",
        "  def __call__(self, query: str) -> str:\n",
        "    output = \"\"\n",
        "    with engine.connect() as con:\n",
        "      rows = con.execute(db.text(query))\n",
        "      for row in rows:\n",
        "        output += \"\\n\" + str(row)\n",
        "    return output\n",
        "\n",
        "query_tool = QueryTool()\n",
        "'''\n",
        "@tool\n",
        "def query_tool(query: str) -> str:\n",
        "  \"\"\"\n",
        "  Allows you to perform SQL queries on the table. Returns a string representation of the result.\n",
        "  The table is named 'country'. Its description is as follows:\n",
        "  Columns:\n",
        "  - Id: INTEGER\n",
        "  - Name: VARCHAR(16)\n",
        "\n",
        "  Args:\n",
        "  query: The query to perform. This should be correct SQL.\n",
        "  \"\"\"\n",
        "  output = \"\"\n",
        "  rows = conn.execute(db.text(query))\n",
        "  for row in rows:\n",
        "    print('here')\n",
        "    output += \"\\n\" + str(row)\n",
        "  return output\n",
        "\n",
        "\n",
        "\n",
        "\n",
        "\n",
        "agent = ReactCodeAgent(\n",
        "    tools=[query_tool],\n",
        "    llm_engine=HfApiEngine(\"meta-llama/Meta-Llama-3-8B-Instruct\"),\n",
        ")\n",
        "\n",
        "agent.run(\"Can you give me the name of a country that starts with the letter p?\")\n",
        "\n",
        "conn.close()\n",
        "print ('Done')"
      ],
      "metadata": {
        "colab": {
          "base_uri": "https://localhost:8080/"
        },
        "id": "hkVAVuLzFh2r",
        "outputId": "13dca987-d28f-420b-f9db-10e77c722b3d"
      },
      "execution_count": 47,
      "outputs": [
        {
          "output_type": "stream",
          "name": "stderr",
          "text": [
            "\u001b[32;20;1m======== New task ========\u001b[0m\n",
            "\u001b[37;1mCan you give me the name of a country that starts with the letter p?\u001b[0m\n",
            "\u001b[33;1m=== Agent thoughts:\u001b[0m\n",
            "\u001b[0mThought: I will use the `query_tool` to perform a SQL query on the 'country' table to find a country that starts with the letter 'P'.\u001b[0m\n",
            "\u001b[33;1m>>> Agent is executing the code below:\u001b[0m\n",
            "\u001b[0m\u001b[38;5;7mcountries\u001b[39m\u001b[38;5;7m \u001b[39m\u001b[38;5;109;01m=\u001b[39;00m\u001b[38;5;7m \u001b[39m\u001b[38;5;7mquery_tool\u001b[39m\u001b[38;5;7m(\u001b[39m\u001b[38;5;7mquery\u001b[39m\u001b[38;5;109;01m=\u001b[39;00m\u001b[38;5;144m\"\u001b[39m\u001b[38;5;144mSELECT Name FROM country WHERE Name LIKE \u001b[39m\u001b[38;5;144m'\u001b[39m\u001b[38;5;144mP\u001b[39m\u001b[38;5;144m%\u001b[39m\u001b[38;5;144m'\u001b[39m\u001b[38;5;144m\"\u001b[39m\u001b[38;5;7m)\u001b[39m\n",
            "\u001b[38;5;109;01mfor\u001b[39;00m\u001b[38;5;7m \u001b[39m\u001b[38;5;7mcountry\u001b[39m\u001b[38;5;7m \u001b[39m\u001b[38;5;109;01min\u001b[39;00m\u001b[38;5;7m \u001b[39m\u001b[38;5;7mcountries\u001b[39m\u001b[38;5;109;01m.\u001b[39;00m\u001b[38;5;7msplitlines\u001b[39m\u001b[38;5;7m(\u001b[39m\u001b[38;5;7m)\u001b[39m\u001b[38;5;7m:\u001b[39m\n",
            "\u001b[38;5;7m    \u001b[39m\u001b[38;5;109mprint\u001b[39m\u001b[38;5;7m(\u001b[39m\u001b[38;5;7mcountry\u001b[39m\u001b[38;5;7m)\u001b[39m\u001b[0m\n",
            "\u001b[33;1m====\u001b[0m\n",
            "\u001b[33;1mPrint outputs:\u001b[0m\n",
            "\u001b[32;20m\n",
            "('Poland',)\n",
            "('Portugal',)\n",
            "\u001b[0m\n"
          ]
        },
        {
          "output_type": "stream",
          "name": "stdout",
          "text": [
            "here\n",
            "here\n"
          ]
        },
        {
          "output_type": "stream",
          "name": "stderr",
          "text": [
            "\u001b[33;1m=== Agent thoughts:\u001b[0m\n",
            "\u001b[0mThought: Now that I have the names of countries that start with the letter 'P', I need to use the `final_answer` tool to provide the final answer.\u001b[0m\n",
            "\u001b[33;1m>>> Agent is executing the code below:\u001b[0m\n",
            "\u001b[0m\u001b[38;5;7mfinal_answer\u001b[39m\u001b[38;5;7m(\u001b[39m\u001b[38;5;144m\"\u001b[39m\u001b[38;5;144mPoland or Portugal\u001b[39m\u001b[38;5;144m\"\u001b[39m\u001b[38;5;7m)\u001b[39m\u001b[0m\n",
            "\u001b[33;1m====\u001b[0m\n",
            "\u001b[33;1mPrint outputs:\u001b[0m\n",
            "\u001b[32;20m\u001b[0m\n",
            "\u001b[33;1mLast output from code snippet:\u001b[0m\n",
            "\u001b[32;20mPoland or Portugal\u001b[0m\n",
            "\u001b[32;20;1mFinal answer:\u001b[0m\n",
            "\u001b[32;20mPoland or Portugal\u001b[0m\n"
          ]
        },
        {
          "output_type": "stream",
          "name": "stdout",
          "text": [
            "Done\n"
          ]
        }
      ]
    },
    {
      "cell_type": "code",
      "source": [
        "from transformers import GPT2LMHeadModel, GPT2Tokenizer\n",
        "\n",
        "# Remove warning: FutureWarning: `clean_up_tokenization_spaces` was not set.\n",
        "tokenizer = GPT2Tokenizer.from_pretrained(\"gpt2\", clean_up_tokenization_spaces=False)\n",
        "model = GPT2LMHeadModel.from_pretrained(\"gpt2\")\n",
        "\n",
        "input_text = \"Generate a SQL query to get all orders from the last month.\"\n",
        "input_ids = tokenizer.encode(input_text, return_tensors='pt')\n",
        "# Removed warning: The attention mask and the pad token id were not set. As a consequence, you may observe unexpected behavior.\n",
        "output = model.generate(input_ids, max_length=100, pad_token_id=tokenizer.eos_token_id)\n",
        "\n",
        "print(tokenizer.decode(output[0], skip_special_tokens=True))\n"
      ],
      "metadata": {
        "colab": {
          "base_uri": "https://localhost:8080/"
        },
        "id": "pZBzWrJ7ozLD",
        "outputId": "2e96b9a0-6996-406d-b1bf-4374af605584"
      },
      "execution_count": null,
      "outputs": [
        {
          "output_type": "stream",
          "name": "stdout",
          "text": [
            "Generate a SQL query to get all orders from the last month.\n",
            "\n",
            "The query will be executed in the order column.\n",
            "\n",
            "The order column will contain the order number.\n",
            "\n",
            "The order column will contain the order number.\n",
            "\n",
            "The order column will contain the order number.\n",
            "\n",
            "The order column will contain the order number.\n",
            "\n",
            "The order column will contain the order number.\n",
            "\n",
            "The order column will contain the order number.\n",
            "\n",
            "The order column will contain the\n"
          ]
        }
      ]
    }
  ]
}