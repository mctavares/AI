{
  "nbformat": 4,
  "nbformat_minor": 0,
  "metadata": {
    "colab": {
      "provenance": [],
      "authorship_tag": "ABX9TyPdukUZkzvi2Jw1i5psqmzU",
      "include_colab_link": true
    },
    "kernelspec": {
      "name": "python3",
      "display_name": "Python 3"
    },
    "language_info": {
      "name": "python"
    }
  },
  "cells": [
    {
      "cell_type": "markdown",
      "metadata": {
        "id": "view-in-github",
        "colab_type": "text"
      },
      "source": [
        "<a href=\"https://colab.research.google.com/github/mctavares/AI/blob/GenAISQLAgent/Copy_of_GenAISQLAgent.ipynb\" target=\"_parent\"><img src=\"https://colab.research.google.com/assets/colab-badge.svg\" alt=\"Open In Colab\"/></a>"
      ]
    },
    {
      "cell_type": "markdown",
      "source": [
        "# Simple Gen AI SQL Agent\n",
        "Ih this notebook we create a simple SQL Agent using Hugging Face."
      ],
      "metadata": {
        "id": "f5RKKRzB1YTJ"
      }
    },
    {
      "cell_type": "code",
      "source": [
        "# Check to see if dependencies are already installed\n",
        "import transformers\n",
        "import torch\n",
        "import sqlalchemy\n",
        "import transformers.agents\n",
        "\n",
        "print('Hugging Face Transformers version:' + transformers.__version__)\n",
        "print('PyTorch version:' + transformers.__version__)\n",
        "print('sqlalchemy version:' + sqlalchemy.__version__)"
      ],
      "metadata": {
        "id": "58FRrTPAoKtn"
      },
      "execution_count": null,
      "outputs": []
    },
    {
      "cell_type": "markdown",
      "source": [
        "This block only needs to be run once. Update it as needed if things change and there are errors."
      ],
      "metadata": {
        "id": "cJSP55fs63HO"
      }
    },
    {
      "cell_type": "code",
      "source": [
        "# Add here list of depedencies thta need to be installed\n",
        "# !pip install sqlalchemy\n",
        "!pip install fsspec\n",
        "!pip install --upgrade transformers\n",
        "!pip install transformers[agents]\n",
        "!pip install --upgrade sqlalchemy"
      ],
      "metadata": {
        "id": "dP9GxnFYpfRh"
      },
      "execution_count": null,
      "outputs": []
    },
    {
      "cell_type": "markdown",
      "source": [
        "For this exercise we are going to create an in memory sqlite database. The drawback is that, once we are done, the data is gone. However, if we want to persist data in the future, we just need to remove the comment as indicated in the code.\n",
        "\n",
        "There are two tables:\n",
        "country: contains names of some european countries\n",
        "league: contains names of european football leagues and references to their countries.\n",
        "\n",
        "Later on we will be asking questions about both the countries and the leagues."
      ],
      "metadata": {
        "id": "4tHE1Ugs5wZb"
      }
    },
    {
      "cell_type": "code",
      "source": [
        "# Let's create a simple database\n",
        "import sqlalchemy as db\n",
        "\n",
        "# Based on https://www.kaggle.com/code/alaasedeeq/european-soccer-database-with-sqlite3\n",
        "# engine = db.create_engine(\"sqlite:///european_database.sqlite\") # Uncomment if want db in disk\n",
        "\n",
        "metadata = db.MetaData()\n",
        "\n",
        "# Country table\n",
        "country = db.Table('country', metadata,\n",
        "              db.Column('Id', db.Integer(),primary_key=True),\n",
        "              db.Column('Name', db.String(255), nullable=False)\n",
        "              )\n",
        "# League table\n",
        "league = db.Table('league', metadata,\n",
        "              db.Column('Id', db.Integer(),primary_key=True),\n",
        "              db.Column('Country_Id', db.Integer(),db.ForeignKey('country.Id')),\n",
        "              db.Column('Name', db.String(255), nullable=False)\n",
        "              )\n",
        "engine = db.create_engine('sqlite:///:memory:') #, echo=True) # Comment out for verbose creation\n",
        "metadata.create_all(engine)\n",
        "\n",
        "# Connection will be open until we execute the agent since db is inn memory\n",
        "conn = engine.connect()"
      ],
      "metadata": {
        "id": "Ei36bdWomX1O"
      },
      "execution_count": 27,
      "outputs": []
    },
    {
      "cell_type": "markdown",
      "source": [
        "Let's populate the country table with some data."
      ],
      "metadata": {
        "id": "HJOvgASa5jwo"
      }
    },
    {
      "cell_type": "code",
      "source": [
        "insert_stmt = country.insert().values([\n",
        "{'Id':1, 'Name':'Belgium'},\n",
        "{'Id':1729, 'Name':'England'},\n",
        "{'Id':4769, 'Name':'France'},\n",
        "{'Id':7809, 'Name':'Germany'},\n",
        "{'Id':10257, 'Name':'Italy'},\n",
        "{'Id':13274, 'Name':'Netherlands'},\n",
        "{'Id':15722, 'Name':'Poland'},\n",
        "{'Id':17642, 'Name':'Portugal'},\n",
        "{'Id':19694, 'Name':'Scotland'},\n",
        "{'Id':21518, 'Name':'Spain'},\n",
        "{'Id':24558, 'Name':'Switzerland'}\n",
        "])\n",
        "\n",
        "conn.execute(insert_stmt)\n",
        "output = conn.execute(country.select()).fetchall()"
      ],
      "metadata": {
        "id": "5g1wPIfGCEp9"
      },
      "execution_count": 28,
      "outputs": []
    },
    {
      "cell_type": "markdown",
      "source": [
        "Now we create some data for the leagues table. Notice that we need the coutry table first because of the foreign keys."
      ],
      "metadata": {
        "id": "fU3x8IG45LVv"
      }
    },
    {
      "cell_type": "code",
      "source": [
        "insert_stmt = league.insert().values([\n",
        "{'Id':1,'Country_Id':1,'Name':'Belgium Jupiler League'},\n",
        "{'Id':1729,'Country_Id':1729,'Name':'England Premier League'},\n",
        "{'Id':4769,'Country_Id':4769,'Name':'France Ligue 1'},\n",
        "{'Id':7809,'Country_Id':7809,'Name':'Germany 1. Bundesliga'},\n",
        "{'Id':10257,'Country_Id':10257,'Name':'Italy Serie A'},\n",
        "{'Id':13274,'Country_Id':13274,'Name':'Netherlands Eredivisie'},\n",
        "{'Id':15722,'Country_Id':15722,'Name':'Poland Ekstraklasa'},\n",
        "{'Id':17642,'Country_Id':17642,'Name':'Portugal Liga ZON Sagres'},\n",
        "{'Id':19694,'Country_Id':19694,'Name':'Scotland Premier League'},\n",
        "{'Id':21518,'Country_Id':21518,'Name':'Spain LIGA BBVA\t21518'},\n",
        "{'Id':24558,'Country_Id':24558,'Name':'Switzerland Super League'}\n",
        "])\n",
        "\n",
        "conn.execute(insert_stmt)\n",
        "output = conn.execute(league.select()).fetchall()"
      ],
      "metadata": {
        "id": "jLokvs7lC1SA"
      },
      "execution_count": 29,
      "outputs": []
    },
    {
      "cell_type": "markdown",
      "source": [
        "The SQL Agent code is straightforward. We define a function (tool) that will execute the query and return the results. The LLM receives the request (input) from the user and translates the request into a SQL command, which is then passed to the query_tool function. The query_funtion executes the query and sends the results back to the LLM, which then transforms the results into a format a human can understand.\n",
        "\n",
        "Hugging Face requires that you describe what the query_tool function does using pyhon comments, as well as the schema of each table that can be queried."
      ],
      "metadata": {
        "id": "r92oKe643yCM"
      }
    },
    {
      "cell_type": "code",
      "source": [
        "# Hugging Face code\n",
        "from transformers import ReactCodeAgent, HfApiEngine, Tool, tool\n",
        "\n",
        "@tool\n",
        "def query_tool(query: str) -> str:\n",
        "  \"\"\"\n",
        "  Allows you to perform SQL queries on the table. Returns a string representation of the result.\n",
        "\n",
        "  It can use the tables 'country' and 'league'.\n",
        "\n",
        "  The table 'country' has the following columns:\n",
        "  Columns:\n",
        "  - Id: INTEGER\n",
        "  - Name: VARCHAR(16)\n",
        "\n",
        "  The table 'league' has the following columns:\n",
        "  Columns:\n",
        "  - Id: INTEGER\n",
        "  - Country_Id: INTEGER\n",
        "  - Name: VARCHAR(16)\n",
        "\n",
        "  Args:\n",
        "  query: The query to perform. This should be correct SQL.\n",
        "  \"\"\"\n",
        "  output = \"\"\n",
        "  rows = conn.execute(db.text(query))\n",
        "  for row in rows:\n",
        "    output += \"\\n\" + str(row)\n",
        "  return output\n",
        "\n",
        "\n",
        "agent = ReactCodeAgent(\n",
        "    tools=[query_tool],\n",
        "    llm_engine=HfApiEngine(\"meta-llama/Meta-Llama-3-8B-Instruct\")\n",
        ")"
      ],
      "metadata": {
        "id": "hkVAVuLzFh2r"
      },
      "execution_count": 30,
      "outputs": []
    },
    {
      "cell_type": "markdown",
      "source": [
        "Now we run the agents. We want to test the following:\n",
        "```\n",
        "# Find country/countries that start with the letter p\n",
        "```\n",
        "This will query the country table only.\n"
      ],
      "metadata": {
        "id": "GmTdy5Kv0zHu"
      }
    },
    {
      "cell_type": "code",
      "source": [
        "agent.run(\"Can you give me the name of a country that starts with the letter p?\")"
      ],
      "metadata": {
        "id": "PX_LpW6f0x7x"
      },
      "execution_count": null,
      "outputs": []
    },
    {
      "cell_type": "markdown",
      "source": [
        "The next request is:\n",
        "```\n",
        "# Can you give me the name of the league associated with the country Italy?\n",
        "```\n",
        "This will perform a join between the league and country tables."
      ],
      "metadata": {
        "id": "MNUu8OcF10_S"
      }
    },
    {
      "cell_type": "code",
      "source": [
        "agent.run(\"Can you give me the name of the league associated with the country Italy?\")"
      ],
      "metadata": {
        "id": "MjJ0QkYq11j1"
      },
      "execution_count": null,
      "outputs": []
    },
    {
      "cell_type": "markdown",
      "source": [
        "Finally we ask for something that should not be in the table:\n",
        "```\n",
        "# Is the country Ireland in the list of countries?\n",
        "```\n",
        "This will scan the country tables and find nothing"
      ],
      "metadata": {
        "id": "g1Rx2Sdj2lPy"
      }
    },
    {
      "cell_type": "code",
      "source": [
        "agent.run(\"Is the country Ireland in the list of countries?\")"
      ],
      "metadata": {
        "id": "HEVAghhX2lhq"
      },
      "execution_count": null,
      "outputs": []
    },
    {
      "cell_type": "markdown",
      "source": [
        "Once done, we close the connection and the data is gone."
      ],
      "metadata": {
        "id": "hNZLiiCR2-Aw"
      }
    },
    {
      "cell_type": "code",
      "source": [
        "conn.close()\n",
        "print ('Done')"
      ],
      "metadata": {
        "id": "RmXQtlCD3KCL"
      },
      "execution_count": null,
      "outputs": []
    },
    {
      "cell_type": "markdown",
      "source": [
        "And that's it! We wrote a simple SQL Agent that can answer questions by querying two related tables."
      ],
      "metadata": {
        "id": "fkSC7I8W3Svz"
      }
    },
    {
      "cell_type": "markdown",
      "source": [
        "# References\n",
        "## Data source:\n",
        "* https://www.kaggle.com/code/dimarudov/data-analysis-using-sql\n",
        "\n",
        "## SQLAlchemy:\n",
        "* https://www.datacamp.com/tutorial/sqlalchemy-tutorial-examples\n",
        "* https://www.slingacademy.com/article/sqlalchemy-how-to-bulk-insert-data-into-a-table/\n",
        "* https://docs.sqlalchemy.org/en/20/orm/join_conditions.html\n",
        "* https://www.sqlitetutorial.net/sqlite-go/create-table/\n",
        "\n",
        "## Hugging Face\n",
        "* https://huggingface.co/learn/cookbook/en/agent_text_to_sql"
      ],
      "metadata": {
        "id": "_gkZVeUI0nPf"
      }
    }
  ]
}