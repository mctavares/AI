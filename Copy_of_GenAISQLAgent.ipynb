{
  "nbformat": 4,
  "nbformat_minor": 0,
  "metadata": {
    "colab": {
      "provenance": [],
      "authorship_tag": "ABX9TyNqPt2gNn4zmPPJl0mExhRt",
      "include_colab_link": true
    },
    "kernelspec": {
      "name": "python3",
      "display_name": "Python 3"
    },
    "language_info": {
      "name": "python"
    }
  },
  "cells": [
    {
      "cell_type": "markdown",
      "metadata": {
        "id": "view-in-github",
        "colab_type": "text"
      },
      "source": [
        "<a href=\"https://colab.research.google.com/github/mctavares/AI/blob/GenAISQLAgent/Copy_of_GenAISQLAgent.ipynb\" target=\"_parent\"><img src=\"https://colab.research.google.com/assets/colab-badge.svg\" alt=\"Open In Colab\"/></a>"
      ]
    },
    {
      "cell_type": "markdown",
      "source": [],
      "metadata": {
        "id": "8r6dXMD41UgQ"
      }
    },
    {
      "cell_type": "markdown",
      "source": [
        "# Simple Gen AI SQL Agent\n",
        "Ih this notebook we create a simple SQL Agent using Hugging Face and LangChain.\n",
        "\n",
        "\n",
        "# References\n",
        "## Data source:\n",
        "* https://www.kaggle.com/code/dimarudov/data-analysis-using-sql\n",
        "\n",
        "## SQLAlchemy:\n",
        "* https://www.datacamp.com/tutorial/sqlalchemy-tutorial-examples\n",
        "* https://www.slingacademy.com/article/sqlalchemy-how-to-bulk-insert-data-into-a-table/\n",
        "* https://docs.sqlalchemy.org/en/20/orm/join_conditions.html\n",
        "* https://www.sqlitetutorial.net/sqlite-go/create-table/\n",
        "\n",
        "## Hugging Face\n",
        "* https://huggingface.co/learn/cookbook/en/agent_text_to_sql\n",
        "\n",
        "\n"
      ],
      "metadata": {
        "id": "f5RKKRzB1YTJ"
      }
    },
    {
      "cell_type": "code",
      "source": [
        "# Check to see if dependencies are already installed\n",
        "import transformers\n",
        "import torch\n",
        "import sqlalchemy\n",
        "import transformers.agents\n",
        "\n",
        "print('Hugging Face Transformers version:' + transformers.__version__)\n",
        "print('PyTorch version:' + transformers.__version__)\n",
        "print('sqlalchemy version:' + sqlalchemy.__version__)"
      ],
      "metadata": {
        "id": "58FRrTPAoKtn"
      },
      "execution_count": null,
      "outputs": []
    },
    {
      "cell_type": "code",
      "source": [
        "# Add here list of depedencies thta need to be installed\n",
        "# !pip install sqlalchemy\n",
        "!pip install fsspec\n",
        "!pip install --upgrade transformers\n",
        "!pip install transformers[agents]\n",
        "!pip install --upgrade sqlalchemy"
      ],
      "metadata": {
        "id": "dP9GxnFYpfRh"
      },
      "execution_count": null,
      "outputs": []
    },
    {
      "cell_type": "code",
      "source": [
        "# Let's create a simple database\n",
        "import sqlalchemy as db\n",
        "\n",
        "# Based on https://www.kaggle.com/code/alaasedeeq/european-soccer-database-with-sqlite3\n",
        "# engine = db.create_engine(\"sqlite:///european_database.sqlite\") # Uncomment if want db in disk\n",
        "\n",
        "metadata = db.MetaData()\n",
        "\n",
        "# Country table\n",
        "country = db.Table('country', metadata,\n",
        "              db.Column('Id', db.Integer(),primary_key=True),\n",
        "              db.Column('Name', db.String(255), nullable=False)\n",
        "              )\n",
        "# League table\n",
        "league = db.Table('league', metadata,\n",
        "              db.Column('Id', db.Integer(),primary_key=True),\n",
        "              db.Column('Country_Id', db.Integer(),db.ForeignKey('country.Id')),\n",
        "              db.Column('Name', db.String(255), nullable=False)\n",
        "              )\n",
        "engine = db.create_engine('sqlite:///:memory:') #, echo=True) # Comment out for verbose creation\n",
        "metadata.create_all(engine)\n",
        "\n",
        "# Connection will be open until we execute the agent since db is inn memory\n",
        "conn = engine.connect()"
      ],
      "metadata": {
        "id": "Ei36bdWomX1O"
      },
      "execution_count": null,
      "outputs": []
    },
    {
      "cell_type": "code",
      "source": [
        "insert_stmt = country.insert().values([\n",
        "{'Id':1, 'Name':'Belgium'},\n",
        "{'Id':1729, 'Name':'England'},\n",
        "{'Id':4769, 'Name':'France'},\n",
        "{'Id':7809, 'Name':'Germany'},\n",
        "{'Id':10257, 'Name':'Italy'},\n",
        "{'Id':13274, 'Name':'Netherlands'},\n",
        "{'Id':15722, 'Name':'Poland'},\n",
        "{'Id':17642, 'Name':'Portugal'},\n",
        "{'Id':19694, 'Name':'Scotland'},\n",
        "{'Id':21518, 'Name':'Spain'},\n",
        "{'Id':24558, 'Name':'Switzerland'}\n",
        "])\n",
        "\n",
        "conn.execute(insert_stmt)\n",
        "output = conn.execute(country.select()).fetchall()"
      ],
      "metadata": {
        "id": "5g1wPIfGCEp9"
      },
      "execution_count": null,
      "outputs": []
    },
    {
      "cell_type": "code",
      "source": [
        "insert_stmt = league.insert().values([\n",
        "{'Id':1,'Country_Id':1,'Name':'Belgium Jupiler League'},\n",
        "{'Id':1729,'Country_Id':1729,'Name':'England Premier League'},\n",
        "{'Id':4769,'Country_Id':4769,'Name':'France Ligue 1'},\n",
        "{'Id':7809,'Country_Id':7809,'Name':'Germany 1. Bundesliga'},\n",
        "{'Id':10257,'Country_Id':10257,'Name':'Italy Serie A'},\n",
        "{'Id':13274,'Country_Id':13274,'Name':'Netherlands Eredivisie'},\n",
        "{'Id':15722,'Country_Id':15722,'Name':'Poland Ekstraklasa'},\n",
        "{'Id':17642,'Country_Id':17642,'Name':'Portugal Liga ZON Sagres'},\n",
        "{'Id':19694,'Country_Id':19694,'Name':'Scotland Premier League'},\n",
        "{'Id':21518,'Country_Id':21518,'Name':'Spain LIGA BBVA\t21518'},\n",
        "{'Id':24558,'Country_Id':24558,'Name':'Switzerland Super League'}\n",
        "])\n",
        "\n",
        "conn.execute(insert_stmt)\n",
        "output = conn.execute(league.select()).fetchall()"
      ],
      "metadata": {
        "id": "jLokvs7lC1SA"
      },
      "execution_count": null,
      "outputs": []
    },
    {
      "cell_type": "code",
      "source": [
        "# Hugging Face code\n",
        "from transformers import ReactCodeAgent, HfApiEngine, Tool, tool\n",
        "\n",
        "@tool\n",
        "def query_tool(query: str) -> str:\n",
        "  \"\"\"\n",
        "  Allows you to perform SQL queries on the table. Returns a string representation of the result.\n",
        "  The table is named 'country'. Its description is as follows:\n",
        "  Columns:\n",
        "  - Id: INTEGER\n",
        "  - Name: VARCHAR(16)\n",
        "\n",
        "  Args:\n",
        "  query: The query to perform. This should be correct SQL.\n",
        "  \"\"\"\n",
        "  output = \"\"\n",
        "  rows = conn.execute(db.text(query))\n",
        "  for row in rows:\n",
        "    output += \"\\n\" + str(row)\n",
        "  return output\n",
        "\n",
        "\n",
        "agent = ReactCodeAgent(\n",
        "    tools=[query_tool],\n",
        "    llm_engine=HfApiEngine(\"meta-llama/Meta-Llama-3-8B-Instruct\")\n",
        ")\n",
        "\n",
        "agent.run(\"Can you give me the name of a country that starts with the letter p?\")\n",
        "\n",
        "conn.close()\n",
        "print ('Done')"
      ],
      "metadata": {
        "id": "hkVAVuLzFh2r"
      },
      "execution_count": null,
      "outputs": []
    }
  ]
}